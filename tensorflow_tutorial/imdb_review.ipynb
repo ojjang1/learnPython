{
  "nbformat": 4,
  "nbformat_minor": 0,
  "metadata": {
    "colab": {
      "name": "imdb_review.ipynb",
      "provenance": [],
      "collapsed_sections": []
    },
    "kernelspec": {
      "name": "python3",
      "display_name": "Python 3"
    }
  },
  "cells": [
    {
      "cell_type": "code",
      "metadata": {
        "id": "qghqcv-uLNvE",
        "colab_type": "code",
        "colab": {}
      },
      "source": [
        "# https://www.tensorflow.org/tutorials/keras/text_classification?hl=ko\n",
        "# 이 노트북은 영화 리뷰 텍스트를 긍정 또는 부정으로 분류\n",
        "# 이와 같은 분류를 2진분류, (binary) 분류, 또는 클래스가 두 개인 분류\n",
        "# 이진 분류는 머신러닝에서 중요하고 널리 사용\n",
        "# 인터넷 영화 데이터베이스(Internat Movie Database)\n",
        "# 텐서플로우와 함꼐 제공되는 IMDB 데이터셋 사용\n",
        "# 데이터 갯수 총 50000개 , \n",
        "# 25000은 훈련용 25,000 개는 태스트용"
      ],
      "execution_count": 0,
      "outputs": []
    },
    {
      "cell_type": "code",
      "metadata": {
        "id": "ZozZjKUrL5os",
        "colab_type": "code",
        "colab": {}
      },
      "source": [
        "# tensorflow 와 tk.keras 를 임포트 합니다.\n",
        "import tensorflow as tf\n",
        "from tensorflow import keras\n",
        "# 핼퍼(helper) 라이브러리 임포트합니다.\n",
        "# 시각화 작업이나 분석하기위한 숫자 라이브러리를 핼퍼라고 함\n",
        "import numpy as np\n",
        "import matplotlib.pyplot as plt"
      ],
      "execution_count": 0,
      "outputs": []
    },
    {
      "cell_type": "code",
      "metadata": {
        "id": "fM0bFaN-MPjW",
        "colab_type": "code",
        "colab": {}
      },
      "source": [
        "# 데이터셋 불러오기\n",
        "# https://www.imdb.com/\n",
        "# 이미 전처리도 다 끝나있고 정수 형으로 다 변환된 상태\n",
        "# 각 정수는 어휘사전에 있는 특정 단어를 의미\n",
        "\n",
        "imdb = keras.datasets.imdb\n",
        "\n",
        "(train_data, train_labels),(test_data, test_labels) = imdb.load_data(num_words=10000)\n",
        "# 가장 빈도수가 많은 노출단어를 설정해줄수 있다. 10000개만 뽑아오겠다.\n",
        "# 내부가 파이썬 언어로 되어있기때문에 위의 방식으로 로드 해 올 수 있다.\n"
      ],
      "execution_count": 0,
      "outputs": []
    },
    {
      "cell_type": "code",
      "metadata": {
        "id": "ssc1zYx0M3pe",
        "colab_type": "code",
        "outputId": "8f255026-2330-4312-9363-9f2caa6bcc99",
        "colab": {
          "base_uri": "https://localhost:8080/",
          "height": 35
        }
      },
      "source": [
        "## 데이터 탐색\n",
        "# - 이 데이터셋의 샘플은 전처리된 정수 배열\n",
        "# - 이 정수는 영화 리뷰에 나오는 단어를 나타냄\n",
        "# - 레이블(label)은 정수 0 또는 1 이다.\n",
        "# - 0은 부정적인 리뷰, 1은 긍정적인 리뷰.\n",
        "print('훈련 샘플: {}, 레이블:{}'.format(len(train_data), len(train_labels)))"
      ],
      "execution_count": 0,
      "outputs": [
        {
          "output_type": "stream",
          "text": [
            "훈련 샘플: 25000, 레이블:25000\n"
          ],
          "name": "stdout"
        }
      ]
    },
    {
      "cell_type": "code",
      "metadata": {
        "id": "wFvKY7amNpzA",
        "colab_type": "code",
        "outputId": "36de81eb-b091-46d0-ee93-f169c4c7159d",
        "colab": {
          "base_uri": "https://localhost:8080/",
          "height": 55
        }
      },
      "source": [
        "# 첫 번쨰 리뷰 확인해보기\n",
        "print(train_data[0])\n"
      ],
      "execution_count": 0,
      "outputs": [
        {
          "output_type": "stream",
          "text": [
            "[1, 14, 22, 16, 43, 530, 973, 1622, 1385, 65, 458, 4468, 66, 3941, 4, 173, 36, 256, 5, 25, 100, 43, 838, 112, 50, 670, 2, 9, 35, 480, 284, 5, 150, 4, 172, 112, 167, 2, 336, 385, 39, 4, 172, 4536, 1111, 17, 546, 38, 13, 447, 4, 192, 50, 16, 6, 147, 2025, 19, 14, 22, 4, 1920, 4613, 469, 4, 22, 71, 87, 12, 16, 43, 530, 38, 76, 15, 13, 1247, 4, 22, 17, 515, 17, 12, 16, 626, 18, 2, 5, 62, 386, 12, 8, 316, 8, 106, 5, 4, 2223, 5244, 16, 480, 66, 3785, 33, 4, 130, 12, 16, 38, 619, 5, 25, 124, 51, 36, 135, 48, 25, 1415, 33, 6, 22, 12, 215, 28, 77, 52, 5, 14, 407, 16, 82, 2, 8, 4, 107, 117, 5952, 15, 256, 4, 2, 7, 3766, 5, 723, 36, 71, 43, 530, 476, 26, 400, 317, 46, 7, 4, 2, 1029, 13, 104, 88, 4, 381, 15, 297, 98, 32, 2071, 56, 26, 141, 6, 194, 7486, 18, 4, 226, 22, 21, 134, 476, 26, 480, 5, 144, 30, 5535, 18, 51, 36, 28, 224, 92, 25, 104, 4, 226, 65, 16, 38, 1334, 88, 12, 16, 283, 5, 16, 4472, 113, 103, 32, 15, 16, 5345, 19, 178, 32]\n"
          ],
          "name": "stdout"
        }
      ]
    },
    {
      "cell_type": "code",
      "metadata": {
        "id": "XFcKrSQhN4K1",
        "colab_type": "code",
        "outputId": "026f0b16-b333-4fd2-acb0-371257e5ce3f",
        "colab": {
          "base_uri": "https://localhost:8080/",
          "height": 35
        }
      },
      "source": [
        "# 신경망에 들어가려면 데이터 길이가 같아야 하는 데\n",
        "# 리뷰는 각 데이터마다 구성 단어가 달라 길이가 다르기 때문에 처리해줘야 함\n",
        "len(train_data[0]), len(train_data[1])\n",
        "# 차이가 많이 나는것을 알 수 있다."
      ],
      "execution_count": 0,
      "outputs": [
        {
          "output_type": "execute_result",
          "data": {
            "text/plain": [
              "(218, 189)"
            ]
          },
          "metadata": {
            "tags": []
          },
          "execution_count": 8
        }
      ]
    },
    {
      "cell_type": "code",
      "metadata": {
        "id": "IVwfsYp_PRTc",
        "colab_type": "code",
        "colab": {}
      },
      "source": [
        "# 정수로 된 단어들을 텍스트로 변환해보자.\n",
        "# 정수와 문자열을 매핑한 딕셔너리(dictionary) 객체에 질의하는 헬퍼(helper) 함수를 만든다.\n",
        "# 단어와 정수 인덱스를 매칭한 딕셔너리\n",
        "word_index = imdb.get_word_index()\n",
        "# 단어에 대한 인덱스 번호를 추출\n",
        "\n",
        "# 처음 몇 개 인덱스는 사전에 정의되어 있다.\n",
        "word_index = {k:(v+3) for k,v in word_index.items()}  #딕셔너리에서 키와 값을 꺼내는 items 에서 key(k)와 값(v)을 받는다.\n",
        "word_index[\"<PAD>\"] = 0\n",
        "word_index[\"<START>\"] = 1\n",
        "word_index[\"<UNK>\"] = 2  # unknown\n",
        "word_index[\"<UNUSED>\"] = 3\n",
        "\n",
        "reverse_word_index = dict([(value, key) for (key, value) in word_index.items()])\n",
        "\n",
        "def decode_review(text):\n",
        "    return ' '.join([reverse_word_index.get(i, '?') for i in text])\n"
      ],
      "execution_count": 0,
      "outputs": []
    },
    {
      "cell_type": "code",
      "metadata": {
        "id": "ZoNTxVTdSOaM",
        "colab_type": "code",
        "outputId": "7c42362d-5285-4280-d0d0-2acf339ee96f",
        "colab": {
          "base_uri": "https://localhost:8080/",
          "height": 55
        }
      },
      "source": [
        "# 이제 decode_review 함수를 사용해 첫 번쨰 리뷰 텍스트를 출력\n",
        "decode_review(train_data[0])"
      ],
      "execution_count": 0,
      "outputs": [
        {
          "output_type": "execute_result",
          "data": {
            "text/plain": [
              "\"<START> this film was just brilliant casting location scenery story direction everyone's really suited the part they played and you could just imagine being there robert <UNK> is an amazing actor and now the same being director <UNK> father came from the same scottish island as myself so i loved the fact there was a real connection with this film the witty remarks throughout the film were great it was just brilliant so much that i bought the film as soon as it was released for <UNK> and would recommend it to everyone to watch and the fly fishing was amazing really cried at the end it was so sad and you know what they say if you cry at a film it must have been good and this definitely was also <UNK> to the two little boy's that played the <UNK> of norman and paul they were just brilliant children are often left out of the <UNK> list i think because the stars that play them all grown up are such a big profile for the whole film but these children are amazing and should be praised for what they have done don't you think the whole story was so lovely because it was true and was someone's life after all that was shared with us all\""
            ]
          },
          "metadata": {
            "tags": []
          },
          "execution_count": 16
        }
      ]
    },
    {
      "cell_type": "code",
      "metadata": {
        "id": "9hijzL_dS58c",
        "colab_type": "code",
        "colab": {}
      },
      "source": [
        "# 데이터 준비\n",
        "# 리뷰 정수 배열은 신경망에 주입하기 전에 텐서로 변환되어야 한다.\n",
        "\n",
        "# 1.\n",
        "# 원- 핫 인코딩(one-hot-encoding)은 정수 배열을 0과 1 로 이루어진 벡터로 변환\n",
        "# 예를 들면 [3,5]를 인덱스가 3 과 5만 1이고 나머지는 모두 0 인 10000 처원 벡터로 변환할 수 있습니다.\n",
        "# 그 다음 실수 벡터 데이터를 다룰 수 있는 층-Dense층 을 신경망의 첫 번째 쯩으로 사용합니다.\n",
        "# 방법은 num_wordsnum_reviews 크기의 행렬이 필요하기 때문에 메모리를 많이 사용합니다.\n",
        "\n",
        "# 2. \n",
        "# 정수 배열의 길이가 모두 같도록(padding)을 추가해 max_length * num_reviews 크기의 정수 텐서를 만듭니다.\n",
        "# 이런 형태의 테서를 다를 수 있는 임베딩(embedding) 층을 시녁망의 첫 번째 층으로 사용할 수 있습니다.\n",
        "\n",
        "train_data = keras.preprocessing.sequence.pad_sequences(train_data,\n",
        "                                                        value = word_index[\"<PAD>\"],\n",
        "                                                        padding = 'post',\n",
        "                                                        maxlen = 256)\n",
        "\n",
        "test_data = keras.preprocessing.sequence.pad_sequences(test_data,\n",
        "                                                       value = word_index['<PAD>'],\n",
        "                                                       padding = 'post',\n",
        "                                                       maxlen = 256)\n",
        "\n",
        "# pad_sequence 길이를 맞춰주는 함수, 짧으면 0으로 채워줌."
      ],
      "execution_count": 0,
      "outputs": []
    },
    {
      "cell_type": "code",
      "metadata": {
        "id": "hmEBlSsuRHHj",
        "colab_type": "code",
        "outputId": "40cbd0c5-b892-495b-bfa9-b408f59758dd",
        "colab": {
          "base_uri": "https://localhost:8080/",
          "height": 55
        }
      },
      "source": [
        "decode_review(train_data[0])\n",
        "# 다시 확인하면 <PAD> 채그로 뒷부분이 채워진것을 볼 수 있따."
      ],
      "execution_count": 0,
      "outputs": [
        {
          "output_type": "execute_result",
          "data": {
            "text/plain": [
              "\"<START> this film was just brilliant casting location scenery story direction everyone's really suited the part they played and you could just imagine being there robert <UNK> is an amazing actor and now the same being director <UNK> father came from the same scottish island as myself so i loved the fact there was a real connection with this film the witty remarks throughout the film were great it was just brilliant so much that i bought the film as soon as it was released for <UNK> and would recommend it to everyone to watch and the fly fishing was amazing really cried at the end it was so sad and you know what they say if you cry at a film it must have been good and this definitely was also <UNK> to the two little boy's that played the <UNK> of norman and paul they were just brilliant children are often left out of the <UNK> list i think because the stars that play them all grown up are such a big profile for the whole film but these children are amazing and should be praised for what they have done don't you think the whole story was so lovely because it was true and was someone's life after all that was shared with us all <PAD> <PAD> <PAD> <PAD> <PAD> <PAD> <PAD> <PAD> <PAD> <PAD> <PAD> <PAD> <PAD> <PAD> <PAD> <PAD> <PAD> <PAD> <PAD> <PAD> <PAD> <PAD> <PAD> <PAD> <PAD> <PAD> <PAD> <PAD> <PAD> <PAD> <PAD> <PAD> <PAD> <PAD> <PAD> <PAD> <PAD> <PAD>\""
            ]
          },
          "metadata": {
            "tags": []
          },
          "execution_count": 20
        }
      ]
    },
    {
      "cell_type": "code",
      "metadata": {
        "id": "YzadnWvCamXS",
        "colab_type": "code",
        "outputId": "90e7ee38-a7cd-47da-bb3c-840732bf5d8a",
        "colab": {
          "base_uri": "https://localhost:8080/",
          "height": 35
        }
      },
      "source": [
        "len(train_data[0]), len(train_data[1])\n",
        "# 숫자가 256 으로 똑같이 변경된것을 확인 할 수 있다."
      ],
      "execution_count": 0,
      "outputs": [
        {
          "output_type": "execute_result",
          "data": {
            "text/plain": [
              "(256, 256)"
            ]
          },
          "metadata": {
            "tags": []
          },
          "execution_count": 21
        }
      ]
    },
    {
      "cell_type": "code",
      "metadata": {
        "id": "b6bJ94tUaq81",
        "colab_type": "code",
        "outputId": "2654ef6d-18a7-41eb-e956-07cac4ce4592",
        "colab": {
          "base_uri": "https://localhost:8080/",
          "height": 363
        }
      },
      "source": [
        "print(train_data[0])\n",
        "# 빈공간은 전부 0 으로 채워준 것을 알 수 있다."
      ],
      "execution_count": 0,
      "outputs": [
        {
          "output_type": "stream",
          "text": [
            "[   1   14   22   16   43  530  973 1622 1385   65  458 4468   66 3941\n",
            "    4  173   36  256    5   25  100   43  838  112   50  670    2    9\n",
            "   35  480  284    5  150    4  172  112  167    2  336  385   39    4\n",
            "  172 4536 1111   17  546   38   13  447    4  192   50   16    6  147\n",
            " 2025   19   14   22    4 1920 4613  469    4   22   71   87   12   16\n",
            "   43  530   38   76   15   13 1247    4   22   17  515   17   12   16\n",
            "  626   18    2    5   62  386   12    8  316    8  106    5    4 2223\n",
            " 5244   16  480   66 3785   33    4  130   12   16   38  619    5   25\n",
            "  124   51   36  135   48   25 1415   33    6   22   12  215   28   77\n",
            "   52    5   14  407   16   82    2    8    4  107  117 5952   15  256\n",
            "    4    2    7 3766    5  723   36   71   43  530  476   26  400  317\n",
            "   46    7    4    2 1029   13  104   88    4  381   15  297   98   32\n",
            " 2071   56   26  141    6  194 7486   18    4  226   22   21  134  476\n",
            "   26  480    5  144   30 5535   18   51   36   28  224   92   25  104\n",
            "    4  226   65   16   38 1334   88   12   16  283    5   16 4472  113\n",
            "  103   32   15   16 5345   19  178   32    0    0    0    0    0    0\n",
            "    0    0    0    0    0    0    0    0    0    0    0    0    0    0\n",
            "    0    0    0    0    0    0    0    0    0    0    0    0    0    0\n",
            "    0    0    0    0]\n"
          ],
          "name": "stdout"
        }
      ]
    },
    {
      "cell_type": "code",
      "metadata": {
        "id": "v-Y5yhE6a2PZ",
        "colab_type": "code",
        "outputId": "183b0f46-8b39-435b-a2b2-35b80299b592",
        "colab": {
          "base_uri": "https://localhost:8080/",
          "height": 308
        }
      },
      "source": [
        "## 모델 만들기\n",
        "# 예측할 레이블은 0 또는 1\n",
        "# 입력 크기는 영화 리뷰 데이터셋에 적용된 어휘 사전의 크기 (10000 개의 데이터)\n",
        "vocab_size = 10000\n",
        "\n",
        "model = keras.Sequential() # 시퀀셜 객체를 만든 후 각 모델을을 입력시킬 수 있다.\n",
        "model.add(keras.layers.Embedding(vocab_size,16, input_shape=(None,)))\n",
        "model.add(keras.layers.GlobalAveragePooling1D())\n",
        "model.add(keras.layers.Dense(16, activation='relu'))\n",
        "model.add(keras.layers.Dense(1, activation = 'sigmoid'))\n",
        "\n",
        "model.summary() #만든 모델들에 대한 요약"
      ],
      "execution_count": 0,
      "outputs": [
        {
          "output_type": "stream",
          "text": [
            "Model: \"sequential_4\"\n",
            "_________________________________________________________________\n",
            "Layer (type)                 Output Shape              Param #   \n",
            "=================================================================\n",
            "embedding_1 (Embedding)      (None, None, 16)          160000    \n",
            "_________________________________________________________________\n",
            "global_average_pooling1d_1 ( (None, 16)                0         \n",
            "_________________________________________________________________\n",
            "dense_1 (Dense)              (None, 16)                272       \n",
            "_________________________________________________________________\n",
            "dense_2 (Dense)              (None, 1)                 17        \n",
            "=================================================================\n",
            "Total params: 160,289\n",
            "Trainable params: 160,289\n",
            "Non-trainable params: 0\n",
            "_________________________________________________________________\n"
          ],
          "name": "stdout"
        }
      ]
    },
    {
      "cell_type": "code",
      "metadata": {
        "id": "AIe1xFmrcdGC",
        "colab_type": "code",
        "colab": {}
      },
      "source": [
        "# 첫 번째 층은 Embedding 층\n",
        "#  이 층은 정수로 인코딩 된 단어를 입력받고\n",
        "#  각 단어 인덱스에 해당하는 임베딩 벡터를 찾습니다.\n",
        "#  이 벡터는 모델이 훈련되면서 학습됩니다.\n",
        "#  이 벡터는 출력 배열에 새로운 차원으로 추가됩니다.\n",
        "#  최종 자원은 (batch, sequence, embedding)이 됩니다.\n",
        "\n",
        "# 그다음 GlobalAveragePooling1D 층은\n",
        "#  sequence 차원에 대해 평균을 계산하여 \n",
        "#  각 샘플에 대해 고정된 길이의 출력 벡터를 반환합니다.\n",
        "#  이는 길이가 다른 입력을 다루는 가장 간단한 방법입니다.\n",
        "\n",
        "# 이 고정 길이의 출력 벡터는 16개의 은닉 유닛을 가진 완전 연결(fully-connected) 층(Danse)을 가집니다.\n",
        "\n",
        "# 마지막 층은 하나의 출력 노드(node)를 가진 완전 연결 층입니다.\n",
        "# sigmoid 활성화 함수를 사용하여 0과 1 사이의 실수를 출력합니다. 이 값은 확률 또는 신뢰도를 나타냅니다.\n",
        "# 0과 1사이의 값으로 나와 0에 가까우면 부정, 1에 가까우면 긍정\n",
        "\n",
        "\n",
        "# 은닉 유짓\n",
        "# 위모델에는 입력과 출력 사이에 두 개의 중간 또는 '은닉'층이 있습니다. \n",
        "# 출력(유닛 또는 노드, 뉴런)의 개수는 층이가진 표현공간(repencetial space)의 차원이 됩니다.\n",
        "# 다른 말로 하면, 내부 표현을 학습할 때 허용되는 네트워크 자유도의 양 입니다.\n",
        "\n",
        "# 모델에 많은 은닉유닛(고차원의 표현공간)"
      ],
      "execution_count": 0,
      "outputs": []
    },
    {
      "cell_type": "code",
      "metadata": {
        "id": "MWesW9sAeYmr",
        "colab_type": "code",
        "colab": {}
      },
      "source": [
        "## 모델 진행 설정\n",
        "model.compile(optimizer = 'adam',\n",
        "              loss = 'binary_crossentropy',\n",
        "              metrics = ['accuracy'])"
      ],
      "execution_count": 0,
      "outputs": []
    },
    {
      "cell_type": "code",
      "metadata": {
        "id": "nlNF1_D9ep6Y",
        "colab_type": "code",
        "colab": {}
      },
      "source": [
        "### 검증 세트 만들기 (validation set)\n",
        "# 테스트 데이터에서 샘플로 10000 개 정도만 띄어서 보겠다.\n",
        "# (왜 테스트 세트를 사용하지 않는가)\n",
        "# 훈련 데이터만을 사용하여 모델을 개발하고 튜닝하는것이 목표\n",
        "# 그 다음 테스트 세트를 사용해서 딱 한번만 정확도를 평가"
      ],
      "execution_count": 0,
      "outputs": []
    },
    {
      "cell_type": "code",
      "metadata": {
        "id": "QiHpPJeLfNVx",
        "colab_type": "code",
        "colab": {}
      },
      "source": [
        "x_val = train_data[:10000]\n",
        "partial_x_train = train_data[10000:]\n",
        "\n",
        "y_val = train_labels[:10000]\n",
        "partial_y_train = train_labels[10000:]"
      ],
      "execution_count": 0,
      "outputs": []
    },
    {
      "cell_type": "code",
      "metadata": {
        "id": "0hsm3vKQfio2",
        "colab_type": "code",
        "colab": {}
      },
      "source": [
        "###  모델 훈련\n",
        "# 이 모델을 512 개의 샘플로 이루어진 미니배치(mini-batch)에서\n",
        "# 40번의 에포크(epoch) 동안 훈련합니다.\n",
        "# x_train 과 y_train 텐서에 있는 모든 샘플에 대해 40번 반복한다는 뜻\n",
        "\n",
        "# 훈련하는 동안 10,000 개의 검증 세트에서 모델의 손실과 정확도를 모니터링함.\n",
        "# 훈련한번. 검증한번 이런식으로 교차하면서 모니터링할 예정"
      ],
      "execution_count": 0,
      "outputs": []
    },
    {
      "cell_type": "code",
      "metadata": {
        "id": "XJL_eW2WgRRk",
        "colab_type": "code",
        "colab": {}
      },
      "source": [
        "history = model.fit(partial_x_train,\n",
        "                    partial_y_train,\n",
        "                    epochs = 40,\n",
        "                    batch_size = 512,\n",
        "                    validation_data = (x_val, y_val),\n",
        "                    verbose = 1)\n",
        "# 정확도가 계속 진행되다가 미묘하게 낮아지는것을 볼 수 있다.\n",
        "# histroy 의 변수 로 넣어주면 안에는 훈련 값과 검증값이 쌓여서 들어가게 된다. "
      ],
      "execution_count": 0,
      "outputs": []
    },
    {
      "cell_type": "code",
      "metadata": {
        "id": "u6s5AQ6ohvYn",
        "colab_type": "code",
        "outputId": "1d932513-fa04-480a-8e17-7f3165bc5ced",
        "colab": {
          "base_uri": "https://localhost:8080/",
          "height": 54
        }
      },
      "source": [
        "### 모델 평가\n",
        "# 모델의 성능을 확인해보자 2개의 값이 반환된다.\n",
        "# 손실( 오차를 나타내는 숫자이므로 낮을수록 좋다.)과 정확도\n",
        "\n",
        "results = model.evaluate(test_data, test_labels, verbose = 2)\n",
        "\n",
        "print(results)\n",
        "# 훈련떄 정확도와 테스트의 정확도가 그렇게 다리지 않다.\n"
      ],
      "execution_count": 0,
      "outputs": [
        {
          "output_type": "stream",
          "text": [
            "782/782 - 1s - loss: 0.3293 - accuracy: 0.8722\n",
            "[0.329327255487442, 0.8722400069236755]\n"
          ],
          "name": "stdout"
        }
      ]
    },
    {
      "cell_type": "code",
      "metadata": {
        "id": "DmiRGRhaiHPH",
        "colab_type": "code",
        "outputId": "1e63950a-2800-4c7c-a8f5-f3c15fb9a323",
        "colab": {
          "base_uri": "https://localhost:8080/",
          "height": 35
        }
      },
      "source": [
        "# model.fit() 은 History 객체를 반환\n",
        "# 훈련하는 동안 일어난 모든 정보가 담긴 딕셔너리(dictionary)가 들어있다.\n",
        "history_dict = history.history   # hostory 가 우리가 선언한 변수. 안에 history 를 이용해서 꺼내기\n",
        "history_dict.keys()"
      ],
      "execution_count": 0,
      "outputs": [
        {
          "output_type": "execute_result",
          "data": {
            "text/plain": [
              "dict_keys(['loss', 'accuracy', 'val_loss', 'val_accuracy'])"
            ]
          },
          "metadata": {
            "tags": []
          },
          "execution_count": 38
        }
      ]
    },
    {
      "cell_type": "code",
      "metadata": {
        "id": "LmiPnTGHn0l_",
        "colab_type": "code",
        "colab": {}
      },
      "source": [
        "import matplotlib.pyplot as plt\n",
        "\n",
        "acc = history_dict['accuracy']\n",
        "val_acc = history_dict['val_accuracy']\n",
        "loss = history_dict['loss']\n",
        "val_loss = history_dict['val_loss']\n",
        "\n",
        "epochs = range(1, len(acc) +1)  # 네개의 데이터 갯수는 같을꺼니까 하나만 만들어넣으면됨."
      ],
      "execution_count": 0,
      "outputs": []
    },
    {
      "cell_type": "code",
      "metadata": {
        "id": "v6WMey6goh99",
        "colab_type": "code",
        "outputId": "31e1b7de-3763-4c2d-f296-217f379f6d5e",
        "colab": {
          "base_uri": "https://localhost:8080/",
          "height": 295
        }
      },
      "source": [
        "# x축은 반복학습된 수, y는 손실율.\n",
        "# 'bo' 는 \"파란색 점\" 입니다.\n",
        "plt.plot(epochs, loss, 'bo', label = 'Traning loss')\n",
        "# b 는 \"파란실선\" 입니다.\n",
        "plt.plot(epochs, val_loss, 'b', label = \"Validation loss\")\n",
        "plt.title(\"Training and validation loss\")\n",
        "plt.xlabel('Epochs')\n",
        "plt.ylabel('Loss')\n",
        "plt.legend()\n",
        "\n",
        "plt.show()"
      ],
      "execution_count": 0,
      "outputs": [
        {
          "output_type": "display_data",
          "data": {
            "image/png": "[encoded data removed]",
            "text/plain": [
              "<Figure size 432x288 with 1 Axes>"
            ]
          },
          "metadata": {
            "tags": [],
            "needs_background": "light"
          }
        }
      ]
    },
    {
      "cell_type": "code",
      "metadata": {
        "id": "Vb2uszJapNAP",
        "colab_type": "code",
        "outputId": "99ba13c2-9761-4285-8023-1b098dc5945f",
        "colab": {
          "base_uri": "https://localhost:8080/",
          "height": 295
        }
      },
      "source": [
        "# 이번엔 정확도 차트를 그려보자\n",
        "plt.clf()  # 그림을 초기화 한다.\n",
        "\n",
        "plt.plot(epochs, acc, 'bo', label = 'Traning acc')\n",
        "plt.plot(epochs, val_acc, 'b', label = \"Validation acc\")\n",
        "plt.title(\"Training and validation accuracy\")\n",
        "plt.xlabel('Epochs')\n",
        "plt.ylabel('Accuracy')\n",
        "plt.legend()\n",
        "\n",
        "plt.show()"
      ],
      "execution_count": 0,
      "outputs": [
        {
          "output_type": "display_data",
          "data": {
            "image/png": "[encoded data removed]",
            "text/plain": [
              "<Figure size 432x288 with 1 Axes>"
            ]
          },
          "metadata": {
            "tags": [],
            "needs_background": "light"
          }
        }
      ]
    },
    {
      "cell_type": "code",
      "metadata": {
        "id": "N6bbdLToq3B5",
        "colab_type": "code",
        "colab": {}
      },
      "source": [
        "# 훈련손실은 에포크마다 감소하고 훈련 정화도는 증가 한다는것을 보인다.\n",
        "# 검사 하강법 최적하를 사용할 때 볼 수 있는 현상  매 반복마다최적화 대상의 값을 최소화 \n",
        "# 하지만 검증 손실과 검증 정확도에서는 약 20번째 에포크 이후가 최적점 이는 과대적합 떄문\n",
        "# 이 지점부터는 모델이 과도하게 최적화 되어.\n",
        "# 테스트 데이터에서 일반화 되기 어려운 훈련 데이터의 특정 표현을 학습합니다.\n",
        "# 그래서 튜닝을 적절하게 해주고 반복하는 작업으로 모델을 개선 해 나간다."
      ],
      "execution_count": 0,
      "outputs": []
    },
    {
      "cell_type": "code",
      "metadata": {
        "id": "M8ckEeCEqz5i",
        "colab_type": "code",
        "colab": {}
      },
      "source": [
        ""
      ],
      "execution_count": 0,
      "outputs": []
    }
  ]
}